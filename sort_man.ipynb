{
 "cells": [
  {
   "cell_type": "code",
   "execution_count": 13,
   "metadata": {},
   "outputs": [
    {
     "name": "stdout",
     "output_type": "stream",
     "text": [
      "Filenames: ['0000.png', '0003.png', '0005.png', '0009.png', '0015.png', '0023.png', '0029.png', '0034.png', '0039.png', '0042.png', '0048.png', '0051.png', '0052.png', '0053.png', '0059.png', '0060.png', '0069.png', '0071.png', '0076.png', '0079.png', '0081.png', '0085.png', '0087.png', '0094.png', '0095.png', '0096.png', '0098.png', '0100.png', '0101.png', '0102.png', '0108.png', '0109.png', '0111.png', '0115.png', '0116.png', '0128.png', '0138.png', '0142.png', '0145.png', '0148.png', '0153.png', '0154.png', '0157.png', '0159.png', '0165.png', '0166.png', '0177.png', '0182.png', '0185.png', '0192.png', '0216.png', '0217.png', '0218.png', '0219.png', '0224.png', '0228.png', '0241.png', '0252.png', '0254.png', '0256.png', '0260.png', '0262.png', '0265.png', '0269.png', '0277.png', '0278.png', '0279.png', '0280.png', '0282.png', '0284.png', '0289.png', '0290.png', '0291.png', '0294.png', '0295.png', '0297.png', '0298.png', '0300.png', '0302.png', '0306.png', '0307.png', '0309.png', '0310.png', '0311.png', '0312.png', '0316.png', '0319.png', '0320.png', '0321.png', '0324.png', '0329.png', '0330.png', '0334.png', '0340.png', '0343.png', '0344.png', '0345.png', '0346.png', '0351.png', '0399.png']\n",
      "File Numbers: [0, 3, 5, 9, 15, 23, 29, 34, 39, 42, 48, 51, 52, 53, 59, 60, 69, 71, 76, 79, 81, 85, 87, 94, 95, 96, 98, 100, 101, 102, 108, 109, 111, 115, 116, 128, 138, 142, 145, 148, 153, 154, 157, 159, 165, 166, 177, 182, 185, 192, 216, 217, 218, 219, 224, 228, 241, 252, 254, 256, 260, 262, 265, 269, 277, 278, 279, 280, 282, 284, 289, 290, 291, 294, 295, 297, 298, 300, 302, 306, 307, 309, 310, 311, 312, 316, 319, 320, 321, 324, 329, 330, 334, 340, 343, 344, 345, 346, 351, 399]\n"
     ]
    }
   ],
   "source": [
    "import re\n",
    "import pandas as pd\n",
    "# Read the CSV file\n",
    "df = pd.read_csv('/Users/chiho/Vscode/new_imgs.csv')\n",
    "\n",
    "filename_list = []\n",
    "file_number_list = []\n",
    "\n",
    "for filename in df['filename']:\n",
    "    match = re.match(r'(\\d+)\\.png', filename)\n",
    "    if match:\n",
    "        filename_list.append(filename)\n",
    "        file_number_list.append(int(match.group(1)))\n",
    "\n",
    "print(\"Filenames:\", filename_list)\n",
    "print(\"File Numbers:\", file_number_list)\n"
   ]
  },
  {
   "cell_type": "code",
   "execution_count": 15,
   "metadata": {},
   "outputs": [],
   "source": [
    "import shutil\n",
    "\n",
    "source_folder = '/Users/chiho/Vscode/IMAGE-FOR-EXP/D_face_w_sorted_avg'\n",
    "destination_folder = '/Users/chiho/Vscode/IMAGE-FOR-EXP/hutzper-100-wface'\n",
    "\n",
    "# Iterate through the filenames list\n",
    "for i, filename in enumerate(filename_list):\n",
    "    source_file = source_folder + '/' + filename\n",
    "    #file number with i and 4 digits\n",
    "    destination_file = destination_folder + '/' + str(i).zfill(4) + '.png'\n",
    "    \n",
    "    # Copy the file to the destination folder\n",
    "    shutil.copy(source_file, destination_file)\n"
   ]
  },
  {
   "cell_type": "code",
   "execution_count": 17,
   "metadata": {},
   "outputs": [
    {
     "name": "stdout",
     "output_type": "stream",
     "text": [
      "(100, 512)\n"
     ]
    }
   ],
   "source": [
    "import numpy as np\n",
    "\n",
    "latent = np.load('/Users/chiho/Vscode/IMAGE-FOR-EXP/D_face_w_sorted_avg/D_face_w_sorted_rendered.npy')\n",
    "\n",
    "filenumber = np.array(file_number_list)\n",
    "\n",
    "print(latent[filenumber].shape)\n",
    "\n",
    "np.save('/Users/chiho/Vscode/IMAGE-FOR-EXP/hutzper-100-wface/hutzper-100-wface.npy', latent[filenumber])"
   ]
  },
  {
   "cell_type": "code",
   "execution_count": null,
   "metadata": {},
   "outputs": [],
   "source": []
  }
 ],
 "metadata": {
  "kernelspec": {
   "display_name": "Python 3 (ipykernel)",
   "language": "python",
   "name": "python3"
  },
  "language_info": {
   "codemirror_mode": {
    "name": "ipython",
    "version": 3
   },
   "file_extension": ".py",
   "mimetype": "text/x-python",
   "name": "python",
   "nbconvert_exporter": "python",
   "pygments_lexer": "ipython3",
   "version": "3.10.13"
  }
 },
 "nbformat": 4,
 "nbformat_minor": 2
}
